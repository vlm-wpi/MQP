{
 "cells": [
  {
   "cell_type": "code",
   "execution_count": 13,
   "id": "bad7ff46",
   "metadata": {},
   "outputs": [],
   "source": [
    "## this script will be used to write all information about the path from the output file to a csv\n",
    "\n",
    "####### to run this you will want to:\n",
    "# 1. update the file to be your data file\n",
    "# 2. update the location of the file you are writing to\n",
    "\n",
    "# adapted from https://stackoverflow.com/questions/34452644/parse-specific-text-file-to-csv-format-with-headers\n",
    "\n",
    "import csv\n",
    "import os\n",
    "# this code reads in the output file and writes only the seed and path data to a csv\n",
    "# only including values in the new csv (named path) if they \n",
    "# contained '=' and 'seed' or 'path' in the output file\n",
    "\n",
    "# note that delimiters are hard coded in right now"
   ]
  },
  {
   "cell_type": "code",
   "execution_count": 14,
   "id": "595b1ddb",
   "metadata": {},
   "outputs": [],
   "source": [
    "def convert_to_dict(line, header):\n",
    "    d = {}\n",
    "    for cell in header:\n",
    "        d[cell] = ''\n",
    "\n",
    "    row = line.strip().split(';')    \n",
    "    for cell in row:\n",
    "        if cell:\n",
    "            if (('=' in cell) and (('seed' in cell ) or ('path' in cell))): \n",
    "                key, value = cell.split('=')\n",
    "                d[key] = value\n",
    "    return d"
   ]
  },
  {
   "cell_type": "code",
   "execution_count": 15,
   "id": "dec05d12",
   "metadata": {},
   "outputs": [],
   "source": [
    "def extract_fields(logfile):\n",
    "#     fields = set()\n",
    "    fields = []\n",
    "    for line in logfile:\n",
    "        row = line.strip().split(';')\n",
    "        for cell in row:\n",
    "            if cell:\n",
    "                if (('=' in cell) and (('seed' in cell ) or ('path' in cell))): \n",
    "                    key, value = cell.split('=')\n",
    "                    if key not in fields:\n",
    "                        fields.append(key)\n",
    "\n",
    "    logfile.seek(0)\n",
    "    return list(fields)\n"
   ]
  },
  {
   "cell_type": "code",
   "execution_count": 17,
   "id": "2a39d944",
   "metadata": {},
   "outputs": [
    {
     "name": "stdout",
     "output_type": "stream",
     "text": [
      "here\n"
     ]
    }
   ],
   "source": [
    "if __name__ == '__main__':\n",
    "    # Look to the path of your current working directory\n",
    "    working_directory = os.getcwd()\n",
    "    file_path = working_directory + '/output19'\n",
    "    with open(file_path, 'r') as logfile:\n",
    "        # appends to the existing data file each time instead of overriding it\n",
    "        # change the 'a' to 'w' if you want to override\n",
    "        with open(working_directory + '/output.csv', 'a',newline='') as csvfile:\n",
    "            csvwriter = csv.writer(csvfile)\n",
    "\n",
    "            header = extract_fields(logfile)\n",
    "            # remove this line if you want to print headers everytime\n",
    "            if os.stat(working_directory + '/output.csv').st_size == 0:\n",
    "                csvwriter.writerow(header)\n",
    "\n",
    "            for line in logfile:\n",
    "                d = convert_to_dict(line, header)\n",
    "                csvwriter.writerow([d[cell] for cell in header])"
   ]
  },
  {
   "cell_type": "code",
   "execution_count": null,
   "id": "a0058999",
   "metadata": {},
   "outputs": [],
   "source": []
  }
 ],
 "metadata": {
  "kernelspec": {
   "display_name": "Python 3 (ipykernel)",
   "language": "python",
   "name": "python3"
  },
  "language_info": {
   "codemirror_mode": {
    "name": "ipython",
    "version": 3
   },
   "file_extension": ".py",
   "mimetype": "text/x-python",
   "name": "python",
   "nbconvert_exporter": "python",
   "pygments_lexer": "ipython3",
   "version": "3.9.7"
  }
 },
 "nbformat": 4,
 "nbformat_minor": 5
}
