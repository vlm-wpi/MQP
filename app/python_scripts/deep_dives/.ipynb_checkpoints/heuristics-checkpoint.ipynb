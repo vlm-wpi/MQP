{
 "cells": [
  {
   "cell_type": "code",
   "execution_count": 1,
   "id": "321f3825",
   "metadata": {},
   "outputs": [],
   "source": [
    "# this is for the data from the three runs where we try \n",
    "# each of the heuristic functions\n",
    "\n",
    "# imports and reading csv\n",
    "import pandas as pd\n",
    "import numpy as np\n",
    "import matplotlib.pyplot as plt\n",
    "\n",
    "data9 = pd.read_csv(r\"C:\\Users\\allym\\Documents\\MQP\\all_data\\data_9.csv\")\n",
    "data10 = pd.read_csv(r\"C:\\Users\\allym\\Documents\\MQP\\all_data\\data_10.csv\")\n",
    "data11 = pd.read_csv(r\"C:\\Users\\allym\\Documents\\MQP\\all_data\\data_11.csv\")\n"
   ]
  },
  {
   "cell_type": "code",
   "execution_count": 2,
   "id": "08ace32f",
   "metadata": {},
   "outputs": [],
   "source": [
    "# general initializations\n",
    "x=['euclidean', 'diagonal', 'manhattan']\n"
   ]
  },
  {
   "cell_type": "code",
   "execution_count": 3,
   "id": "76f99c99",
   "metadata": {},
   "outputs": [
    {
     "name": "stdout",
     "output_type": "stream",
     "text": [
      "y1 [155.03685714285714, 153.6382857142857, 159.02828571428572]\n"
     ]
    }
   ],
   "source": [
    "# y1 initializations\n",
    "y1=[]\n",
    "\n",
    "avg_1_9=sum(data9['total_exit_time'])/len(data9['total_exit_time'])\n",
    "y1.append(avg_1_9)\n",
    "\n",
    "avg_1_10=sum(data10['total_exit_time'])/len(data10['total_exit_time'])\n",
    "y1.append(avg_1_10)\n",
    "\n",
    "avg_1_11=sum(data11['total_exit_time'])/len(data11['total_exit_time'])\n",
    "y1.append(avg_1_11)\n",
    "\n",
    "# print('y1', y1)"
   ]
  },
  {
   "cell_type": "code",
   "execution_count": null,
   "id": "75f91a5d",
   "metadata": {},
   "outputs": [],
   "source": [
    "# y2 initializations\n",
    "y2=[]\n",
    "\n",
    "avg_2_9=sum(data9['avg_exit_time'])/len(data9['avg_exit_time'])\n",
    "y2.append(avg_2_9)\n",
    "\n",
    "avg_2_10=sum(data10['avg_exit_time'])/len(data10['avg_exit_time'])\n",
    "y2.append(avg_2_10)\n",
    "\n",
    "avg_2_11=sum(data11['avg_exit_time'])/len(data11['avg_exit_time'])\n",
    "y2.append(avg_2_11)\n",
    "\n",
    "# print('y2', y2)"
   ]
  },
  {
   "cell_type": "code",
   "execution_count": null,
   "id": "358559d2",
   "metadata": {},
   "outputs": [],
   "source": [
    "# y3 initializations\n",
    "y3=[]\n",
    "\n",
    "avg_3_9=sum(data9['avg_collisions_total'])/len(data9['avg_collisions_total'])\n",
    "y3.append(avg_3_9)\n",
    "\n",
    "avg_3_10=sum(data10['avg_collisions_total'])/len(data10['avg_collisions_total'])\n",
    "y3.append(avg_3_10)\n",
    "\n",
    "avg_3_11=sum(data11['avg_collisions_total'])/len(data11['avg_collisions_total'])\n",
    "y3.append(avg_3_11)\n",
    "\n",
    "# print('y3', y3)"
   ]
  },
  {
   "cell_type": "code",
   "execution_count": null,
   "id": "af80eab5",
   "metadata": {},
   "outputs": [],
   "source": [
    "# y4 initializations\n",
    "y4=[]\n",
    "\n",
    "avg_4_9=sum(data9['total_avg_occ_all_time'])/len(data9['total_avg_occ_all_time'])\n",
    "y4.append(avg_4_9)\n",
    "\n",
    "avg_4_10=sum(data10['total_avg_occ_all_time'])/len(data10['total_avg_occ_all_time'])\n",
    "y4.append(avg_4_10)\n",
    "\n",
    "avg_4_11=sum(data11['total_avg_occ_all_time'])/len(data11['total_avg_occ_all_time'])\n",
    "y4.append(avg_4_11)\n",
    "\n",
    "# print('y4', y4)"
   ]
  },
  {
   "cell_type": "code",
   "execution_count": null,
   "id": "04c6cb1b",
   "metadata": {},
   "outputs": [],
   "source": [
    "# y5 initializations\n",
    "y5=[]\n",
    "\n",
    "avg_5_9=sum(data9['evaluation_metric'])/len(data9['evaluation_metric'])\n",
    "y5.append(avg_5_9)\n",
    "\n",
    "avg_5_10=sum(data10['evaluation_metric'])/len(data10['evaluation_metric'])\n",
    "y5.append(avg_5_10)\n",
    "\n",
    "avg_5_11=sum(data11['evaluation_metric'])/len(data11['evaluation_metric'])\n",
    "y5.append(avg_5_11)\n",
    "\n",
    "# print('y5', y5)"
   ]
  },
  {
   "cell_type": "code",
   "execution_count": 4,
   "id": "9e8ce166",
   "metadata": {},
   "outputs": [
    {
     "data": {
      "image/png": "[encoded data removed]",
      "text/plain": [
       "<Figure size 432x288 with 1 Axes>"
      ]
     },
     "metadata": {
      "needs_background": "light"
     },
     "output_type": "display_data"
    }
   ],
   "source": [
    "# building the bar graphs\n",
    "\n",
    "# plot 1\n",
    "plt.bar(x,y1)\n",
    "plt.title('Average total exit time based on heuristic')\n",
    "plt.xlabel('Heuristic')\n",
    "plt.ylabel('Average total exit time')\n",
    "plt.show()\n",
    "\n",
    "# plot 2\n",
    "plt.bar(x,y2)\n",
    "plt.title('Mean of average exit time based on heuristic')\n",
    "plt.xlabel('Heuristic')\n",
    "plt.ylabel('Mean of average exit time')\n",
    "plt.show()\n",
    "\n",
    "# plot 3\n",
    "plt.bar(x,y3)\n",
    "plt.title('Mean of average collisions based on heuristic')\n",
    "plt.xlabel('Heuristic')\n",
    "plt.ylabel('Mean of average collisions')\n",
    "plt.show()\n",
    "\n",
    "# plot 4\n",
    "plt.bar(x,y4)\n",
    "plt.title('Mean of average area occupancy based on heuristic')\n",
    "plt.xlabel('Heuristic')\n",
    "plt.ylabel('Mean of average area occupancy')\n",
    "plt.show()\n",
    "\n",
    "# plot 5\n",
    "plt.bar(x,y5)\n",
    "plt.title('Average evaluation metric based on heuristic')\n",
    "plt.xlabel('Heuristic')\n",
    "plt.ylabel('Average evaluation metric')\n",
    "plt.show()"
   ]
  }
 ],
 "metadata": {
  "kernelspec": {
   "display_name": "Python 3",
   "language": "python",
   "name": "python3"
  },
  "language_info": {
   "codemirror_mode": {
    "name": "ipython",
    "version": 3
   },
   "file_extension": ".py",
   "mimetype": "text/x-python",
   "name": "python",
   "nbconvert_exporter": "python",
   "pygments_lexer": "ipython3",
   "version": "3.8.8"
  }
 },
 "nbformat": 4,
 "nbformat_minor": 5
}
