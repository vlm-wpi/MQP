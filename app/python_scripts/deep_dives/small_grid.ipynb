{
 "cells": [
  {
   "cell_type": "code",
   "execution_count": 1,
   "id": "82c2548e",
   "metadata": {},
   "outputs": [],
   "source": [
    "# this is for the data from the small grid runs ()\n",
    "\n",
    "# imports and reading csv\n",
    "import pandas as pd\n",
    "import numpy as np\n",
    "import matplotlib.pyplot as plt\n",
    "\n",
    "data15 = pd.read_csv(r\"C:\\Users\\allym\\Documents\\MQP\\all_data\\data_15.csv\")\n",
    "data16 = pd.read_csv(r\"C:\\Users\\allym\\Documents\\MQP\\all_data\\data_16.csv\")\n",
    "data17 = pd.read_csv(r\"C:\\Users\\allym\\Documents\\MQP\\all_data\\data_17.csv\")\n"
   ]
  },
  {
   "cell_type": "code",
   "execution_count": 2,
   "id": "192d26c7",
   "metadata": {},
   "outputs": [],
   "source": [
    "# general initializations\n",
    "x=['10,10,10,0', '25,25,25,15', '50,50,50,40']\n"
   ]
  },
  {
   "cell_type": "code",
   "execution_count": 3,
   "id": "b1a6c33b",
   "metadata": {},
   "outputs": [],
   "source": [
    "# y1 initializations\n",
    "y1=[]\n",
    "\n",
    "avg_1_15=sum(data15['total_exit_time'])/len(data15['total_exit_time'])\n",
    "y1.append(avg_1_15)\n",
    "\n",
    "avg_1_16=sum(data16['total_exit_time'])/len(data16['total_exit_time'])\n",
    "y1.append(avg_1_16)\n",
    "\n",
    "avg_1_17=sum(data17['total_exit_time'])/len(data17['total_exit_time'])\n",
    "y1.append(avg_1_17)\n",
    "\n",
    "# print('y1', y1)"
   ]
  },
  {
   "cell_type": "code",
   "execution_count": 4,
   "id": "5fe56101",
   "metadata": {},
   "outputs": [],
   "source": [
    "# y2 initializations\n",
    "y2=[]\n",
    "\n",
    "avg_2_15=sum(data15['avg_exit_time'])/len(data15['avg_exit_time'])\n",
    "y2.append(avg_2_15)\n",
    "\n",
    "avg_2_16=sum(data16['avg_exit_time'])/len(data16['avg_exit_time'])\n",
    "y2.append(avg_2_16)\n",
    "\n",
    "avg_2_17=sum(data17['avg_exit_time'])/len(data17['avg_exit_time'])\n",
    "y2.append(avg_2_17)\n",
    "\n",
    "# print('y2', y2)"
   ]
  },
  {
   "cell_type": "code",
   "execution_count": 5,
   "id": "d57296cb",
   "metadata": {},
   "outputs": [],
   "source": [
    "# y3 initializations\n",
    "y3=[]\n",
    "\n",
    "avg_3_15=sum(data15['avg_collisions_total'])/len(data15['avg_collisions_total'])\n",
    "y3.append(avg_3_15)\n",
    "\n",
    "avg_3_16=sum(data16['avg_collisions_total'])/len(data16['avg_collisions_total'])\n",
    "y3.append(avg_3_16)\n",
    "\n",
    "avg_3_17=sum(data17['avg_collisions_total'])/len(data17['avg_collisions_total'])\n",
    "y3.append(avg_3_17)\n",
    "\n",
    "# print('y3', y3)"
   ]
  },
  {
   "cell_type": "code",
   "execution_count": 6,
   "id": "4e0d6737",
   "metadata": {},
   "outputs": [],
   "source": [
    "# y4 initializations\n",
    "y4=[]\n",
    "\n",
    "avg_4_15=sum(data15['total_avg_occ_all_time'])/len(data15['total_avg_occ_all_time'])\n",
    "y4.append(avg_4_15)\n",
    "\n",
    "avg_4_16=sum(data16['total_avg_occ_all_time'])/len(data16['total_avg_occ_all_time'])\n",
    "y4.append(avg_4_16)\n",
    "\n",
    "avg_4_17=sum(data17['total_avg_occ_all_time'])/len(data17['total_avg_occ_all_time'])\n",
    "y4.append(avg_4_17)\n",
    "\n",
    "# print('y4', y4)"
   ]
  },
  {
   "cell_type": "code",
   "execution_count": 7,
   "id": "5ac797be",
   "metadata": {},
   "outputs": [],
   "source": [
    "# y5 initializations\n",
    "y5=[]\n",
    "\n",
    "avg_5_15=sum(data15['evaluation_metric'])/len(data15['evaluation_metric'])\n",
    "y5.append(avg_5_15)\n",
    "\n",
    "avg_5_16=sum(data16['evaluation_metric'])/len(data16['evaluation_metric'])\n",
    "y5.append(avg_5_16)\n",
    "\n",
    "avg_5_17=sum(data17['evaluation_metric'])/len(data17['evaluation_metric'])\n",
    "y5.append(avg_5_17)\n",
    "\n",
    "# print('y5', y5)"
   ]
  },
  {
   "cell_type": "code",
   "execution_count": 8,
   "id": "011f0820",
   "metadata": {},
   "outputs": [
    {
     "name": "stdout",
     "output_type": "stream",
     "text": [
      "[  80.7954506 -206.8562674]\n"
     ]
    },
    {
     "data": {
      "image/png": "[encoded data removed]",
      "text/plain": [
       "<Figure size 432x288 with 1 Axes>"
      ]
     },
     "metadata": {
      "needs_background": "light"
     },
     "output_type": "display_data"
    },
    {
     "name": "stdout",
     "output_type": "stream",
     "text": [
      "y1 [33.79085714285714, 129.92485714285715, 321.7185714285714]\n",
      "y2 [16.340904761904795, 30.838561904761935, 82.21867969924821]\n",
      "y3 [0.37186666666666723, 12.77943492063489, 60.70266165413527]\n",
      "y4 [24.411623979439774, 20.865150360627066, 16.361553140537097]\n",
      "y5 [-7.69885255086829, 22.75284646476982, 126.5597882128464]\n"
     ]
    }
   ],
   "source": [
    "# # building the bar graphs\n",
    "\n",
    "# # plot 1\n",
    "# plt.scatter(x,y1)\n",
    "# plt.title('Average total exit time based on num peds on small grid')\n",
    "# plt.xlabel('num peds on small grid')\n",
    "# plt.ylabel('Average total exit time')\n",
    "# plt.show()\n",
    "\n",
    "# # plot 2\n",
    "# plt.scatter(x,y2)\n",
    "# plt.title('Mean of average exit time based on num peds on small grid')\n",
    "# plt.xlabel('num peds on small grid')\n",
    "# plt.ylabel('Mean of average exit time')\n",
    "# plt.show()\n",
    "\n",
    "# # plot 3\n",
    "# plt.scatter(x,y3)\n",
    "# plt.title('Mean of average collisions based on num peds on small grid')\n",
    "# plt.xlabel('num peds on small grid')\n",
    "# plt.ylabel('Mean of average collisions')\n",
    "# plt.show()\n",
    "\n",
    "# # plot 4\n",
    "# plt.scatter(x,y4)\n",
    "# plt.title('Mean of average area occupancy based on num peds on small grid')\n",
    "# plt.xlabel('num peds on small grid')\n",
    "# plt.ylabel('Mean of average area occupancy')\n",
    "# plt.show()\n",
    "\n",
    "# plot 5\n",
    "plt.scatter(x,y5,s=100)\n",
    "xa=[10,25,50]\n",
    "x2_line=np.array(xa)\n",
    "y10_line=np.array(y5)\n",
    "test1=np.polyfit(np.log(x2_line), y10_line, 1)\n",
    "print(test1)\n",
    "y=test1[0]*np.log(x2_line)+test1[1]\n",
    "plt.plot(y, color='red')\n",
    "# x_line=np.array(xa)\n",
    "# y5_line=np.array(y5)\n",
    "# print(x_line)\n",
    "# print(y5_line)\n",
    "# y=np.polyfit(x_line, y5_line, 1)\n",
    "# print(y)\n",
    "# # y=test1[0]*np.square(x2_line)+test1[1]\n",
    "# plt.plot(y, color='red')\n",
    "plt.title('Average evaluation metric based on num peds on small grid')\n",
    "plt.xlabel('num peds on small grid')\n",
    "plt.ylabel('Average evaluation metric')\n",
    "plt.show()\n",
    "\n",
    "print('y1',y1)\n",
    "print('y2',y2)\n",
    "print('y3',y3)\n",
    "print('y4',y4)\n",
    "print('y5',y5)"
   ]
  }
 ],
 "metadata": {
  "kernelspec": {
   "display_name": "Python 3",
   "language": "python",
   "name": "python3"
  },
  "language_info": {
   "codemirror_mode": {
    "name": "ipython",
    "version": 3
   },
   "file_extension": ".py",
   "mimetype": "text/x-python",
   "name": "python",
   "nbconvert_exporter": "python",
   "pygments_lexer": "ipython3",
   "version": "3.8.8"
  }
 },
 "nbformat": 4,
 "nbformat_minor": 5
}
