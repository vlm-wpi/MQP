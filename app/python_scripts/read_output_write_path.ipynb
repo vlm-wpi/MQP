{
 "cells": [
  {
   "cell_type": "code",
   "execution_count": 5,
   "id": "bad7ff46",
   "metadata": {},
   "outputs": [],
   "source": [
    "## this script will be used to write all information about the path from the output file to a csv\n",
    "\n",
    "####### to run this you will want to:\n",
    "# 1. update the file to be your data file\n",
    "# 2. update the location of the file you are writing to\n",
    "\n",
    "# adapted from https://stackoverflow.com/questions/34452644/parse-specific-text-file-to-csv-format-with-headers\n",
    "\n",
    "import csv\n",
    "import os\n",
    "import sys\n",
    "# this code reads in the output file and writes only the seed and path data to a csv\n",
    "# only including values in the new csv (named path) if they \n",
    "# contained '=' and 'seed' or 'path' in the output file\n",
    "\n",
    "# note that delimiters are hard coded in right now"
   ]
  },
  {
   "cell_type": "code",
   "execution_count": 6,
   "id": "595b1ddb",
   "metadata": {},
   "outputs": [],
   "source": [
    "def convert_to_dict(line, header):\n",
    "    d = {}\n",
    "    for cell in header:\n",
    "        d[cell] = ''\n",
    "\n",
    "    row = line.strip().split(';')    \n",
    "    for cell in row:\n",
    "        if cell:\n",
    "            if (('=' in cell) and (('seed' in cell ) or ('path' in cell))): \n",
    "                key, value = cell.split('=')\n",
    "                d[key] = value\n",
    "    return d"
   ]
  },
  {
   "cell_type": "code",
   "execution_count": 7,
   "id": "dec05d12",
   "metadata": {},
   "outputs": [],
   "source": [
    "def extract_fields(logfile):\n",
    "#     fields = set()\n",
    "    fields = []\n",
    "    for line in logfile:\n",
    "        row = line.strip().split(';')\n",
    "        for cell in row:\n",
    "            if cell:\n",
    "                if (('=' in cell) and (('seed' in cell ) or ('path' in cell))): \n",
    "                    key, value = cell.split('=')\n",
    "                    if key not in fields:\n",
    "                        fields.append(key)\n",
    "\n",
    "    logfile.seek(0)\n",
    "    return list(fields)\n"
   ]
  },
  {
   "cell_type": "code",
   "execution_count": 9,
   "id": "2a39d944",
   "metadata": {},
   "outputs": [
    {
     "name": "stdout",
     "output_type": "stream",
     "text": [
      "/Users/victoriamirecki/Downloads/MQP/app/python_scripts/read_output_write_path\n",
      "/Users/victoriamirecki/Downloads/MQP/app/python_scripts\n",
      "/Users/victoriamirecki/Downloads/MQP/app\n",
      "/Users/victoriamirecki/Downloads/MQP/app/output\n",
      "/Users/victoriamirecki/Downloads/MQP/app/all_data\n",
      "/Users/victoriamirecki/Downloads/MQP/app/all_data/path.csv\n"
     ]
    }
   ],
   "source": [
    "#get correct path for output file\n",
    "__file__ = 'read_output_write_path'\n",
    "absolutepath = os.path.abspath(__file__)\n",
    "print(absolutepath) #should be MQP/app/python_scripts/read_output_write_path\n",
    "fileDirectory = os.path.dirname(absolutepath)\n",
    "print(fileDirectory) #should be MQP/app/python_scripts\n",
    "#Path of parent directory\n",
    "parentDirectory = os.path.dirname(fileDirectory)\n",
    "print(parentDirectory) #should be MQP/app\n",
    "#Navigate to output file\n",
    "newPath = os.path.join(parentDirectory, 'output') #the file reading from, change if something different \n",
    "print(newPath) #should be MQP/app/output\n",
    "#now need path.csv\n",
    "#navigate to all_data directory\n",
    "all_data = os.path.join(parentDirectory, 'all_data') #changing the path, change if something different \n",
    "print(all_data) #should be MQP/app/all_data\n",
    "pathCSV = os.path.join(all_data, 'path.csv') #the file writing to, change if something different\n",
    "print(pathCSV) #should be MQP/app/all_data/path.csv\n",
    "\n",
    "if __name__ == '__main__':\n",
    "    with open(newPath, 'r') as logfile:\n",
    "        # appends to the existing data file each time instead of overriding it\n",
    "        # change the 'a' to 'w' if you want to override\n",
    "        with open(pathCSV, 'a',newline='') as csvfile:\n",
    "            csvwriter = csv.writer(csvfile)\n",
    "\n",
    "            header = extract_fields(logfile)\n",
    "            # remove this line if you want to print headers everytime\n",
    "            if os.stat(pathCSV).st_size == 0:\n",
    "                csvwriter.writerow(header)\n",
    "\n",
    "            for line in logfile:\n",
    "                d = convert_to_dict(line, header)\n",
    "                csvwriter.writerow([d[cell] for cell in header])"
   ]
  },
  {
   "cell_type": "code",
   "execution_count": null,
   "id": "a0058999",
   "metadata": {},
   "outputs": [],
   "source": []
  }
 ],
 "metadata": {
  "kernelspec": {
   "display_name": "Python 3 (ipykernel)",
   "language": "python",
   "name": "python3"
  },
  "language_info": {
   "codemirror_mode": {
    "name": "ipython",
    "version": 3
   },
   "file_extension": ".py",
   "mimetype": "text/x-python",
   "name": "python",
   "nbconvert_exporter": "python",
   "pygments_lexer": "ipython3",
   "version": "3.9.7"
  }
 },
 "nbformat": 4,
 "nbformat_minor": 5
}
