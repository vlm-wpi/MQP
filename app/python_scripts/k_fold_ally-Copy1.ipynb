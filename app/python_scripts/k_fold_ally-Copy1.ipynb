{
 "cells": [
  {
   "cell_type": "code",
   "execution_count": 1,
   "id": "770334c6",
   "metadata": {},
   "outputs": [],
   "source": [
    "## this script will be used to calculate k-fold to determine how many trials we need\n",
    "\n",
    "####### to run this you will want to:\n",
    "# 1. update the file to be your data file\n",
    "# 2. update the trial increments\n",
    "# 3. update the location of the file you are writing to\n",
    "\n",
    "# imports and reading csv\n",
    "import pandas as pd\n",
    "import numpy as np\n",
    "k_data = pd.read_csv(r\"C:\\Users\\allym\\Documents\\MQP\\all_data\\data_ally_50000_54999.csv\")\n"
   ]
  },
  {
   "cell_type": "code",
   "execution_count": 2,
   "id": "36664bd7",
   "metadata": {},
   "outputs": [],
   "source": [
    "# initializations (can change some of these if you want)\n",
    "k = 5\n",
    "sets_of_trials = [[50000,54999]]\n"
   ]
  },
  {
   "cell_type": "code",
   "execution_count": 3,
   "id": "9bc289d7",
   "metadata": {},
   "outputs": [
    {
     "name": "stdout",
     "output_type": "stream",
     "text": [
      "[50000, 54999] total good trials:  454 total bad trials 46\n",
      "[50000, 54999] 90.8\n"
     ]
    }
   ],
   "source": [
    "# this will make it automatically loop through the sets of trials\n",
    "index = k_data.index\n",
    "for [m,n] in sets_of_trials:\n",
    "    x = m\n",
    "    seed = k_data['seed']\n",
    "    conditionm = seed == m\n",
    "    seedm_index = index[conditionm]\n",
    "    conditionn = seed == n\n",
    "    seedn_index = index[conditionn]\n",
    "    current_seed_index = seedm_index\n",
    "    while ((current_seed_index<=seedn_index) and (current_seed_index>=seedm_index)):\n",
    "\n",
    "        # shuffle and split the data into k random groups\n",
    "        # we do this 100 times to get 100 trials (possible that some of them will be the same)\n",
    "        # can change the number of trials\n",
    "        i = 0\n",
    "        total_good_trials = 0\n",
    "        total_bad_trials = 0\n",
    "\n",
    "        while (i < 100):\n",
    "            good_enough_trials = 0\n",
    "            bad_more_trials = 0\n",
    "            shuffled = k_data.sample(frac=1)\n",
    "            result = np.array_split(shuffled,k)\n",
    "\n",
    "            # for each group, calculate the average of the evaluation metrics\n",
    "            for part in result:\n",
    "                other_eval_sum = 0\n",
    "                eval_sum = sum(part['evaluation_metric'])\n",
    "                group_avg = eval_sum/len(part['evaluation_metric'])\n",
    "        #         print('group average: ',group_avg)\n",
    "\n",
    "            # calculate the average of the remaining parts\n",
    "                for other_part in result:\n",
    "                    if (other_part is not part):\n",
    "                        other_eval_sum = other_eval_sum + sum(other_part['evaluation_metric'])\n",
    "                other_avg = other_eval_sum/((k-1)*len(part['evaluation_metric']))\n",
    "        #         print('other average', other_avg)\n",
    "\n",
    "            # calculate the percent difference between these values for each\n",
    "            # if the percent difference is less than 5%, it's good, otherwise, it's bad\n",
    "            # so add it to the appropriate counter\n",
    "                percent_difference = abs((group_avg - other_avg)/other_avg)\n",
    "        #         print('percent difference',percent_difference)\n",
    "                if (percent_difference <= 0.05):\n",
    "                    good_enough_trials += 1\n",
    "                    total_good_trials += 1\n",
    "                elif (percent_difference > 0.05):\n",
    "                    bad_more_trials += 1\n",
    "                    total_bad_trials += 1\n",
    "\n",
    "        #     print('i',i,'good: ' ,good_enough_trials,'bad: ', bad_more_trials)\n",
    "\n",
    "            i = i + 1\n",
    "        x += 1\n",
    "        current_seed_index += 1\n",
    "\n",
    "        # total number of trials that are good and bad\n",
    "        # calculates the percentage of good trials\n",
    "        # when the percentage of good trials is 95% or greater, we are happy\n",
    "    print([m,n],'total good trials: ',total_good_trials, 'total bad trials', total_bad_trials)\n",
    "    percent_good_trials = (total_good_trials/(total_good_trials+total_bad_trials))*100\n",
    "    print([m,n], percent_good_trials)"
   ]
  }
 ],
 "metadata": {
  "kernelspec": {
   "display_name": "Python 3",
   "language": "python",
   "name": "python3"
  },
  "language_info": {
   "codemirror_mode": {
    "name": "ipython",
    "version": 3
   },
   "file_extension": ".py",
   "mimetype": "text/x-python",
   "name": "python",
   "nbconvert_exporter": "python",
   "pygments_lexer": "ipython3",
   "version": "3.8.8"
  }
 },
 "nbformat": 4,
 "nbformat_minor": 5
}
